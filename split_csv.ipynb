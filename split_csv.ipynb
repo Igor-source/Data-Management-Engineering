{
 "cells": [
  {
   "cell_type": "code",
   "execution_count": 3,
   "metadata": {},
   "outputs": [
    {
     "name": "stderr",
     "output_type": "stream",
     "text": [
      "C:\\Users\\Igorr\\AppData\\Local\\Temp\\ipykernel_14424\\2359044328.py:9: DtypeWarning: Columns (31,69,70,71,72,73,74,75,76,77,153,154,155,162,163,164,168,169,170,171,172,173,180,181,182,189,190,191,198,199,200,207,208,209,216,217,218,225,226,227,234,235,236,243,244,245,276,277,278,279,280,281,282,283,284,360,361,362,369,370,371,378,379,380,384,385,386,387,388,389,396,397,398,405,406,407,414,415,416,423,424,425,432,433,434,441,442,443,450,451,452,459,460,461,467,468,469,473,474,475,476,477,483,484,485,489,490,491,492,493,499,500,501,507,508,509,515,516,517,523,524,525,531,532,533,539,540,541,547,548,549,555,556,557,563,564,565,569,570,571,572,573,579,580,581,585,586,587,588,589,595,596,597,603,604,605,611,612,613,619,620,621,627,628,629,635,636,637,643,644,645,651,652,653,663,664,694,707,720,733,746,759,772,785,874,882,883,884,885,886,890,898,899,900,901,902,947,1290,1291,1292,1293,1364,1365,1366,1781,1809,1810,1812,1840) have mixed types. Specify dtype option on import or set low_memory=False.\n",
      "  for i, chunk in enumerate(pd.read_csv(input_file, chunksize=rows_per_file)):\n"
     ]
    },
    {
     "name": "stdout",
     "output_type": "stream",
     "text": [
      "Сохранена часть: C:\\Users\\Igorr\\Documents\\ITMO5grade\\Algorithm_BigData\\Split_data_Merged_data/part_1.csv\n"
     ]
    },
    {
     "name": "stderr",
     "output_type": "stream",
     "text": [
      "C:\\Users\\Igorr\\AppData\\Local\\Temp\\ipykernel_14424\\2359044328.py:9: DtypeWarning: Columns (155,164,173,182,191,200,209,218,227,236,245,362,371,380,389,398,407,416,425,434,443,452,461,469,477,485,493,501,509,517,525,533,541,549,557,565,573,581,589,597,605,613,621,629,637,645,653) have mixed types. Specify dtype option on import or set low_memory=False.\n",
      "  for i, chunk in enumerate(pd.read_csv(input_file, chunksize=rows_per_file)):\n"
     ]
    },
    {
     "name": "stdout",
     "output_type": "stream",
     "text": [
      "Сохранена часть: C:\\Users\\Igorr\\Documents\\ITMO5grade\\Algorithm_BigData\\Split_data_Merged_data/part_2.csv\n"
     ]
    },
    {
     "name": "stderr",
     "output_type": "stream",
     "text": [
      "C:\\Users\\Igorr\\AppData\\Local\\Temp\\ipykernel_14424\\2359044328.py:9: DtypeWarning: Columns (886,902) have mixed types. Specify dtype option on import or set low_memory=False.\n",
      "  for i, chunk in enumerate(pd.read_csv(input_file, chunksize=rows_per_file)):\n"
     ]
    },
    {
     "name": "stdout",
     "output_type": "stream",
     "text": [
      "Сохранена часть: C:\\Users\\Igorr\\Documents\\ITMO5grade\\Algorithm_BigData\\Split_data_Merged_data/part_3.csv\n"
     ]
    },
    {
     "name": "stderr",
     "output_type": "stream",
     "text": [
      "C:\\Users\\Igorr\\AppData\\Local\\Temp\\ipykernel_14424\\2359044328.py:9: DtypeWarning: Columns (886,902) have mixed types. Specify dtype option on import or set low_memory=False.\n",
      "  for i, chunk in enumerate(pd.read_csv(input_file, chunksize=rows_per_file)):\n"
     ]
    },
    {
     "name": "stdout",
     "output_type": "stream",
     "text": [
      "Сохранена часть: C:\\Users\\Igorr\\Documents\\ITMO5grade\\Algorithm_BigData\\Split_data_Merged_data/part_4.csv\n"
     ]
    },
    {
     "name": "stderr",
     "output_type": "stream",
     "text": [
      "C:\\Users\\Igorr\\AppData\\Local\\Temp\\ipykernel_14424\\2359044328.py:9: DtypeWarning: Columns (155,164,173,182,191,200,209,218,227,236,245,362,371,380,389,398,407,416,425,434,443,452,461,469,477,485,493,501,509,517,525,533,541,549,557,565,573,581,589,597,605,613,621,629,637,645,653,885,886,901,902,1366) have mixed types. Specify dtype option on import or set low_memory=False.\n",
      "  for i, chunk in enumerate(pd.read_csv(input_file, chunksize=rows_per_file)):\n"
     ]
    },
    {
     "name": "stdout",
     "output_type": "stream",
     "text": [
      "Сохранена часть: C:\\Users\\Igorr\\Documents\\ITMO5grade\\Algorithm_BigData\\Split_data_Merged_data/part_5.csv\n"
     ]
    },
    {
     "name": "stderr",
     "output_type": "stream",
     "text": [
      "C:\\Users\\Igorr\\AppData\\Local\\Temp\\ipykernel_14424\\2359044328.py:9: DtypeWarning: Columns (155,164,173,182,191,200,209,218,227,236,245,362,371,380,389,398,407,416,425,434,443,452,461,469,477,485,493,501,509,517,525,533,541,549,557,565,573,581,589,597,605,613,621,629,637,645,653,886,902) have mixed types. Specify dtype option on import or set low_memory=False.\n",
      "  for i, chunk in enumerate(pd.read_csv(input_file, chunksize=rows_per_file)):\n"
     ]
    },
    {
     "name": "stdout",
     "output_type": "stream",
     "text": [
      "Сохранена часть: C:\\Users\\Igorr\\Documents\\ITMO5grade\\Algorithm_BigData\\Split_data_Merged_data/part_6.csv\n"
     ]
    },
    {
     "name": "stderr",
     "output_type": "stream",
     "text": [
      "C:\\Users\\Igorr\\AppData\\Local\\Temp\\ipykernel_14424\\2359044328.py:9: DtypeWarning: Columns (155,164,173,182,191,200,209,218,227,236,245,362,371,380,389,398,407,416,425,434,443,452,461,469,477,485,493,501,509,517,525,533,541,549,557,565,573,581,589,597,605,613,621,629,637,645,653,886,902) have mixed types. Specify dtype option on import or set low_memory=False.\n",
      "  for i, chunk in enumerate(pd.read_csv(input_file, chunksize=rows_per_file)):\n"
     ]
    },
    {
     "name": "stdout",
     "output_type": "stream",
     "text": [
      "Сохранена часть: C:\\Users\\Igorr\\Documents\\ITMO5grade\\Algorithm_BigData\\Split_data_Merged_data/part_7.csv\n"
     ]
    },
    {
     "name": "stderr",
     "output_type": "stream",
     "text": [
      "C:\\Users\\Igorr\\AppData\\Local\\Temp\\ipykernel_14424\\2359044328.py:9: DtypeWarning: Columns (155,164,173,182,191,200,209,218,227,236,245,362,371,380,389,398,407,416,425,434,443,452,461,469,477,485,493,501,509,517,525,533,541,549,557,565,573,581,589,597,605,613,621,629,637,645,653) have mixed types. Specify dtype option on import or set low_memory=False.\n",
      "  for i, chunk in enumerate(pd.read_csv(input_file, chunksize=rows_per_file)):\n"
     ]
    },
    {
     "name": "stdout",
     "output_type": "stream",
     "text": [
      "Сохранена часть: C:\\Users\\Igorr\\Documents\\ITMO5grade\\Algorithm_BigData\\Split_data_Merged_data/part_8.csv\n"
     ]
    },
    {
     "name": "stderr",
     "output_type": "stream",
     "text": [
      "C:\\Users\\Igorr\\AppData\\Local\\Temp\\ipykernel_14424\\2359044328.py:9: DtypeWarning: Columns (886,902) have mixed types. Specify dtype option on import or set low_memory=False.\n",
      "  for i, chunk in enumerate(pd.read_csv(input_file, chunksize=rows_per_file)):\n"
     ]
    },
    {
     "name": "stdout",
     "output_type": "stream",
     "text": [
      "Сохранена часть: C:\\Users\\Igorr\\Documents\\ITMO5grade\\Algorithm_BigData\\Split_data_Merged_data/part_9.csv\n"
     ]
    },
    {
     "name": "stderr",
     "output_type": "stream",
     "text": [
      "C:\\Users\\Igorr\\AppData\\Local\\Temp\\ipykernel_14424\\2359044328.py:9: DtypeWarning: Columns (155,164,173,182,191,200,209,218,227,236,245,362,371,380,389,398,407,416,425,434,443,452,461,469,477,485,493,501,509,517,525,533,541,549,557,565,573,581,589,597,605,613,621,629,637,645,653,848,886,902) have mixed types. Specify dtype option on import or set low_memory=False.\n",
      "  for i, chunk in enumerate(pd.read_csv(input_file, chunksize=rows_per_file)):\n"
     ]
    },
    {
     "name": "stdout",
     "output_type": "stream",
     "text": [
      "Сохранена часть: C:\\Users\\Igorr\\Documents\\ITMO5grade\\Algorithm_BigData\\Split_data_Merged_data/part_10.csv\n"
     ]
    },
    {
     "name": "stderr",
     "output_type": "stream",
     "text": [
      "C:\\Users\\Igorr\\AppData\\Local\\Temp\\ipykernel_14424\\2359044328.py:9: DtypeWarning: Columns (155,164,173,182,191,200,209,218,227,236,245,362,371,380,389,398,407,416,425,434,443,452,461,469,477,485,493,501,509,517,525,533,541,549,557,565,573,581,589,597,605,613,621,629,637,645,653) have mixed types. Specify dtype option on import or set low_memory=False.\n",
      "  for i, chunk in enumerate(pd.read_csv(input_file, chunksize=rows_per_file)):\n"
     ]
    },
    {
     "name": "stdout",
     "output_type": "stream",
     "text": [
      "Сохранена часть: C:\\Users\\Igorr\\Documents\\ITMO5grade\\Algorithm_BigData\\Split_data_Merged_data/part_11.csv\n"
     ]
    },
    {
     "name": "stderr",
     "output_type": "stream",
     "text": [
      "C:\\Users\\Igorr\\AppData\\Local\\Temp\\ipykernel_14424\\2359044328.py:9: DtypeWarning: Columns (155,164,173,182,191,200,209,218,227,236,245,362,371,380,389,398,407,416,425,434,443,452,461,469,477,485,493,501,509,517,525,533,541,549,557,565,573,581,589,597,605,613,621,629,637,645,653,885,886,901,902,1366) have mixed types. Specify dtype option on import or set low_memory=False.\n",
      "  for i, chunk in enumerate(pd.read_csv(input_file, chunksize=rows_per_file)):\n"
     ]
    },
    {
     "name": "stdout",
     "output_type": "stream",
     "text": [
      "Сохранена часть: C:\\Users\\Igorr\\Documents\\ITMO5grade\\Algorithm_BigData\\Split_data_Merged_data/part_12.csv\n"
     ]
    },
    {
     "name": "stderr",
     "output_type": "stream",
     "text": [
      "C:\\Users\\Igorr\\AppData\\Local\\Temp\\ipykernel_14424\\2359044328.py:9: DtypeWarning: Columns (155,164,173,182,191,200,209,218,227,236,245,362,371,380,389,398,407,416,425,434,443,452,461,469,477,485,493,501,509,517,525,533,541,549,557,565,573,581,589,597,605,613,621,629,637,645,653,886,902) have mixed types. Specify dtype option on import or set low_memory=False.\n",
      "  for i, chunk in enumerate(pd.read_csv(input_file, chunksize=rows_per_file)):\n"
     ]
    },
    {
     "name": "stdout",
     "output_type": "stream",
     "text": [
      "Сохранена часть: C:\\Users\\Igorr\\Documents\\ITMO5grade\\Algorithm_BigData\\Split_data_Merged_data/part_13.csv\n"
     ]
    },
    {
     "name": "stderr",
     "output_type": "stream",
     "text": [
      "C:\\Users\\Igorr\\AppData\\Local\\Temp\\ipykernel_14424\\2359044328.py:9: DtypeWarning: Columns (155,164,173,182,191,200,209,218,227,236,245,362,371,380,389,398,407,416,425,434,443,452,461,469,477,485,493,501,509,517,525,533,541,549,557,565,573,581,589,597,605,613,621,629,637,645,653,886,902) have mixed types. Specify dtype option on import or set low_memory=False.\n",
      "  for i, chunk in enumerate(pd.read_csv(input_file, chunksize=rows_per_file)):\n"
     ]
    },
    {
     "name": "stdout",
     "output_type": "stream",
     "text": [
      "Сохранена часть: C:\\Users\\Igorr\\Documents\\ITMO5grade\\Algorithm_BigData\\Split_data_Merged_data/part_14.csv\n"
     ]
    },
    {
     "name": "stderr",
     "output_type": "stream",
     "text": [
      "C:\\Users\\Igorr\\AppData\\Local\\Temp\\ipykernel_14424\\2359044328.py:9: DtypeWarning: Columns (31,69,70,71,72,73,74,75,76,77,153,154,155,162,163,164,168,169,170,171,172,173,180,181,182,189,190,191,198,199,200,207,208,209,216,217,218,225,226,227,234,235,236,243,244,245,276,277,278,279,280,281,282,283,284,360,361,362,369,370,371,378,379,380,384,385,386,387,388,389,396,397,398,405,406,407,414,415,416,423,424,425,432,433,434,441,442,443,450,451,452,459,460,461,467,468,469,475,476,477,483,484,485,489,490,491,492,493,499,500,501,507,508,509,515,516,517,523,524,525,531,532,533,539,540,541,547,548,549,555,556,557,563,564,565,571,572,573,579,580,581,585,586,587,588,589,595,596,597,603,604,605,611,612,613,619,620,621,627,628,629,635,636,637,643,644,645,651,652,653,663,664,694,707,720,733,746,759,772,785,848,874,882,883,884,885,886,887,899,900,901,902,903,947,1290,1291,1292,1293,1364,1365,1366,1781,1809,1810,1812,1840) have mixed types. Specify dtype option on import or set low_memory=False.\n",
      "  for i, chunk in enumerate(pd.read_csv(input_file, chunksize=rows_per_file)):\n"
     ]
    },
    {
     "name": "stdout",
     "output_type": "stream",
     "text": [
      "Сохранена часть: C:\\Users\\Igorr\\Documents\\ITMO5grade\\Algorithm_BigData\\Split_data_Merged_data/part_15.csv\n"
     ]
    },
    {
     "name": "stderr",
     "output_type": "stream",
     "text": [
      "C:\\Users\\Igorr\\AppData\\Local\\Temp\\ipykernel_14424\\2359044328.py:9: DtypeWarning: Columns (155,164,173,182,191,200,209,218,227,236,245,362,371,380,389,398,407,416,425,434,443,452,461,469,477,485,493,501,509,517,525,533,541,549,557,565,573,581,589,597,605,613,621,629,637,645,653,886,887,902,903) have mixed types. Specify dtype option on import or set low_memory=False.\n",
      "  for i, chunk in enumerate(pd.read_csv(input_file, chunksize=rows_per_file)):\n"
     ]
    },
    {
     "name": "stdout",
     "output_type": "stream",
     "text": [
      "Сохранена часть: C:\\Users\\Igorr\\Documents\\ITMO5grade\\Algorithm_BigData\\Split_data_Merged_data/part_16.csv\n"
     ]
    },
    {
     "name": "stderr",
     "output_type": "stream",
     "text": [
      "C:\\Users\\Igorr\\AppData\\Local\\Temp\\ipykernel_14424\\2359044328.py:9: DtypeWarning: Columns (886,902) have mixed types. Specify dtype option on import or set low_memory=False.\n",
      "  for i, chunk in enumerate(pd.read_csv(input_file, chunksize=rows_per_file)):\n"
     ]
    },
    {
     "name": "stdout",
     "output_type": "stream",
     "text": [
      "Сохранена часть: C:\\Users\\Igorr\\Documents\\ITMO5grade\\Algorithm_BigData\\Split_data_Merged_data/part_17.csv\n"
     ]
    },
    {
     "name": "stderr",
     "output_type": "stream",
     "text": [
      "C:\\Users\\Igorr\\AppData\\Local\\Temp\\ipykernel_14424\\2359044328.py:9: DtypeWarning: Columns (155,164,173,182,191,200,209,218,227,236,245,362,371,380,389,398,407,416,425,434,443,452,461,469,477,485,493,501,509,517,525,533,541,549,557,565,573,581,589,597,605,613,621,629,637,645,653,886,902) have mixed types. Specify dtype option on import or set low_memory=False.\n",
      "  for i, chunk in enumerate(pd.read_csv(input_file, chunksize=rows_per_file)):\n"
     ]
    },
    {
     "name": "stdout",
     "output_type": "stream",
     "text": [
      "Сохранена часть: C:\\Users\\Igorr\\Documents\\ITMO5grade\\Algorithm_BigData\\Split_data_Merged_data/part_18.csv\n",
      "Сохранена часть: C:\\Users\\Igorr\\Documents\\ITMO5grade\\Algorithm_BigData\\Split_data_Merged_data/part_19.csv\n"
     ]
    },
    {
     "name": "stderr",
     "output_type": "stream",
     "text": [
      "C:\\Users\\Igorr\\AppData\\Local\\Temp\\ipykernel_14424\\2359044328.py:9: DtypeWarning: Columns (153,154,155,162,163,164,171,172,173,180,181,182,189,190,191,198,199,200,207,208,209,216,217,218,225,226,227,234,235,236,243,244,245,360,361,362,369,370,371,378,379,380,387,388,389,396,397,398,405,406,407,414,415,416,423,424,425,432,433,434,441,442,443,450,451,452,459,460,461,467,468,469,475,476,477,481,482,483,484,485,491,492,493,499,500,501,507,508,509,515,516,517,523,524,525,531,532,533,539,540,541,547,548,549,555,556,557,563,564,565,571,572,573,577,578,579,580,581,587,588,589,595,596,597,603,604,605,611,612,613,619,620,621,627,628,629,635,636,637,643,644,645,651,652,653,884,885,886,900,901,902,1365,1366) have mixed types. Specify dtype option on import or set low_memory=False.\n",
      "  for i, chunk in enumerate(pd.read_csv(input_file, chunksize=rows_per_file)):\n"
     ]
    },
    {
     "name": "stdout",
     "output_type": "stream",
     "text": [
      "Сохранена часть: C:\\Users\\Igorr\\Documents\\ITMO5grade\\Algorithm_BigData\\Split_data_Merged_data/part_20.csv\n"
     ]
    }
   ],
   "source": [
    "import pandas as pd\n",
    "\n",
    "# Укажите путь к вашему большому CSV файлу и директорию для сохранения частей\n",
    "input_file = r'C:\\Users\\Igorr\\Documents\\ITMO5grade\\Algorithm_BigData\\Merged_data.csv'  # замените на путь к вашему файлу\n",
    "output_path = r'C:\\Users\\Igorr\\Documents\\ITMO5grade\\Algorithm_BigData\\Split_data_Merged_data/'  # укажите папку для сохранения частей\n",
    "rows_per_file = 1000  # количество строк в каждом новом файле\n",
    "\n",
    "# Чтение большого файла по частям и сохранение каждой части отдельно\n",
    "for i, chunk in enumerate(pd.read_csv(input_file, chunksize=rows_per_file)):\n",
    "    output_file = f'{output_path}part_{i + 1}.csv'\n",
    "    chunk.to_csv(output_file, index=False)\n",
    "    print(f'Сохранена часть: {output_file}')"
   ]
  },
  {
   "cell_type": "code",
   "execution_count": 5,
   "metadata": {},
   "outputs": [
    {
     "name": "stderr",
     "output_type": "stream",
     "text": [
      "C:\\Users\\Igorr\\AppData\\Local\\Temp\\ipykernel_14424\\2118090204.py:9: DtypeWarning: Columns (16,54,55,56,57,58,59,60,61,62,138,139,147,148,153,154,155,156,157,165,166,174,175,183,184,192,193,201,202,210,211,219,220,228,229,261,262,263,264,265,266,267,268,269,345,346,354,355,363,364,369,370,371,372,373,381,382,390,391,399,400,408,409,417,418,426,427,435,436,444,445,452,453,458,459,460,461,468,469,474,475,476,477,484,485,492,493,500,501,508,509,516,517,524,525,532,533,540,541,548,549,554,555,556,557,564,565,570,571,572,573,580,581,588,589,596,597,604,605,612,613,620,621,628,629,636,637,648,649,679,692,705,718,731,744,757,770,859,867,868,869,870,871,875,883,884,885,886,887,932,1275,1276,1277,1278,1349,1350,1351,1766,1794,1795,1797,1825) have mixed types. Specify dtype option on import or set low_memory=False.\n",
      "  for i, chunk in enumerate(pd.read_csv(input_file, chunksize=rows_per_file)):\n"
     ]
    },
    {
     "name": "stdout",
     "output_type": "stream",
     "text": [
      "Сохранена часть: C:\\Users\\Igorr\\Documents\\ITMO5grade\\Algorithm_BigData\\Split_Mordred_set/part_1.csv\n",
      "Сохранена часть: C:\\Users\\Igorr\\Documents\\ITMO5grade\\Algorithm_BigData\\Split_Mordred_set/part_2.csv\n"
     ]
    },
    {
     "name": "stderr",
     "output_type": "stream",
     "text": [
      "C:\\Users\\Igorr\\AppData\\Local\\Temp\\ipykernel_14424\\2118090204.py:9: DtypeWarning: Columns (871,887) have mixed types. Specify dtype option on import or set low_memory=False.\n",
      "  for i, chunk in enumerate(pd.read_csv(input_file, chunksize=rows_per_file)):\n"
     ]
    },
    {
     "name": "stdout",
     "output_type": "stream",
     "text": [
      "Сохранена часть: C:\\Users\\Igorr\\Documents\\ITMO5grade\\Algorithm_BigData\\Split_Mordred_set/part_3.csv\n"
     ]
    },
    {
     "name": "stderr",
     "output_type": "stream",
     "text": [
      "C:\\Users\\Igorr\\AppData\\Local\\Temp\\ipykernel_14424\\2118090204.py:9: DtypeWarning: Columns (871,887) have mixed types. Specify dtype option on import or set low_memory=False.\n",
      "  for i, chunk in enumerate(pd.read_csv(input_file, chunksize=rows_per_file)):\n"
     ]
    },
    {
     "name": "stdout",
     "output_type": "stream",
     "text": [
      "Сохранена часть: C:\\Users\\Igorr\\Documents\\ITMO5grade\\Algorithm_BigData\\Split_Mordred_set/part_4.csv\n"
     ]
    },
    {
     "name": "stderr",
     "output_type": "stream",
     "text": [
      "C:\\Users\\Igorr\\AppData\\Local\\Temp\\ipykernel_14424\\2118090204.py:9: DtypeWarning: Columns (870,871,886,887,1351) have mixed types. Specify dtype option on import or set low_memory=False.\n",
      "  for i, chunk in enumerate(pd.read_csv(input_file, chunksize=rows_per_file)):\n"
     ]
    },
    {
     "name": "stdout",
     "output_type": "stream",
     "text": [
      "Сохранена часть: C:\\Users\\Igorr\\Documents\\ITMO5grade\\Algorithm_BigData\\Split_Mordred_set/part_5.csv\n"
     ]
    },
    {
     "name": "stderr",
     "output_type": "stream",
     "text": [
      "C:\\Users\\Igorr\\AppData\\Local\\Temp\\ipykernel_14424\\2118090204.py:9: DtypeWarning: Columns (871,887) have mixed types. Specify dtype option on import or set low_memory=False.\n",
      "  for i, chunk in enumerate(pd.read_csv(input_file, chunksize=rows_per_file)):\n"
     ]
    },
    {
     "name": "stdout",
     "output_type": "stream",
     "text": [
      "Сохранена часть: C:\\Users\\Igorr\\Documents\\ITMO5grade\\Algorithm_BigData\\Split_Mordred_set/part_6.csv\n"
     ]
    },
    {
     "name": "stderr",
     "output_type": "stream",
     "text": [
      "C:\\Users\\Igorr\\AppData\\Local\\Temp\\ipykernel_14424\\2118090204.py:9: DtypeWarning: Columns (871,887) have mixed types. Specify dtype option on import or set low_memory=False.\n",
      "  for i, chunk in enumerate(pd.read_csv(input_file, chunksize=rows_per_file)):\n"
     ]
    },
    {
     "name": "stdout",
     "output_type": "stream",
     "text": [
      "Сохранена часть: C:\\Users\\Igorr\\Documents\\ITMO5grade\\Algorithm_BigData\\Split_Mordred_set/part_7.csv\n"
     ]
    },
    {
     "name": "stderr",
     "output_type": "stream",
     "text": [
      "C:\\Users\\Igorr\\AppData\\Local\\Temp\\ipykernel_14424\\2118090204.py:9: DtypeWarning: Columns (140,149,158,167,176,185,194,203,212,221,230,347,356,365,374,383,392,401,410,419,428,437,446,454,462,470,478,486,494,502,510,518,526,534,542,550,558,566,574,582,590,598,606,614,622,630,638) have mixed types. Specify dtype option on import or set low_memory=False.\n",
      "  for i, chunk in enumerate(pd.read_csv(input_file, chunksize=rows_per_file)):\n"
     ]
    },
    {
     "name": "stdout",
     "output_type": "stream",
     "text": [
      "Сохранена часть: C:\\Users\\Igorr\\Documents\\ITMO5grade\\Algorithm_BigData\\Split_Mordred_set/part_8.csv\n",
      "Сохранена часть: C:\\Users\\Igorr\\Documents\\ITMO5grade\\Algorithm_BigData\\Split_Mordred_set/part_9.csv\n"
     ]
    },
    {
     "name": "stderr",
     "output_type": "stream",
     "text": [
      "C:\\Users\\Igorr\\AppData\\Local\\Temp\\ipykernel_14424\\2118090204.py:9: DtypeWarning: Columns (833,871,887) have mixed types. Specify dtype option on import or set low_memory=False.\n",
      "  for i, chunk in enumerate(pd.read_csv(input_file, chunksize=rows_per_file)):\n"
     ]
    },
    {
     "name": "stdout",
     "output_type": "stream",
     "text": [
      "Сохранена часть: C:\\Users\\Igorr\\Documents\\ITMO5grade\\Algorithm_BigData\\Split_Mordred_set/part_10.csv\n"
     ]
    },
    {
     "name": "stderr",
     "output_type": "stream",
     "text": [
      "C:\\Users\\Igorr\\AppData\\Local\\Temp\\ipykernel_14424\\2118090204.py:9: DtypeWarning: Columns (140,149,158,167,176,185,194,203,212,221,230,347,356,365,374,383,392,401,410,419,428,437,446,454,462,470,478,486,494,502,510,518,526,534,542,550,558,566,574,582,590,598,606,614,622,630,638) have mixed types. Specify dtype option on import or set low_memory=False.\n",
      "  for i, chunk in enumerate(pd.read_csv(input_file, chunksize=rows_per_file)):\n"
     ]
    },
    {
     "name": "stdout",
     "output_type": "stream",
     "text": [
      "Сохранена часть: C:\\Users\\Igorr\\Documents\\ITMO5grade\\Algorithm_BigData\\Split_Mordred_set/part_11.csv\n"
     ]
    },
    {
     "name": "stderr",
     "output_type": "stream",
     "text": [
      "C:\\Users\\Igorr\\AppData\\Local\\Temp\\ipykernel_14424\\2118090204.py:9: DtypeWarning: Columns (870,871,886,887,1351) have mixed types. Specify dtype option on import or set low_memory=False.\n",
      "  for i, chunk in enumerate(pd.read_csv(input_file, chunksize=rows_per_file)):\n"
     ]
    },
    {
     "name": "stdout",
     "output_type": "stream",
     "text": [
      "Сохранена часть: C:\\Users\\Igorr\\Documents\\ITMO5grade\\Algorithm_BigData\\Split_Mordred_set/part_12.csv\n"
     ]
    },
    {
     "name": "stderr",
     "output_type": "stream",
     "text": [
      "C:\\Users\\Igorr\\AppData\\Local\\Temp\\ipykernel_14424\\2118090204.py:9: DtypeWarning: Columns (871,887) have mixed types. Specify dtype option on import or set low_memory=False.\n",
      "  for i, chunk in enumerate(pd.read_csv(input_file, chunksize=rows_per_file)):\n"
     ]
    },
    {
     "name": "stdout",
     "output_type": "stream",
     "text": [
      "Сохранена часть: C:\\Users\\Igorr\\Documents\\ITMO5grade\\Algorithm_BigData\\Split_Mordred_set/part_13.csv\n",
      "Сохранена часть: C:\\Users\\Igorr\\Documents\\ITMO5grade\\Algorithm_BigData\\Split_Mordred_set/part_14.csv\n"
     ]
    },
    {
     "name": "stderr",
     "output_type": "stream",
     "text": [
      "C:\\Users\\Igorr\\AppData\\Local\\Temp\\ipykernel_14424\\2118090204.py:9: DtypeWarning: Columns (16,54,55,56,57,58,59,60,61,62,138,139,140,147,148,149,153,154,155,156,157,158,165,166,167,174,175,176,183,184,185,192,193,194,201,202,203,210,211,212,219,220,221,228,229,230,261,262,263,264,265,266,267,268,269,345,346,347,354,355,356,363,364,365,369,370,371,372,373,374,381,382,383,390,391,392,399,400,401,408,409,410,417,418,419,426,427,428,435,436,437,444,445,446,452,453,454,460,461,462,468,469,470,474,475,476,477,478,484,485,486,492,493,494,500,501,502,508,509,510,516,517,518,524,525,526,532,533,534,540,541,542,548,549,550,556,557,558,564,565,566,570,571,572,573,574,580,581,582,588,589,590,596,597,598,604,605,606,612,613,614,620,621,622,628,629,630,636,637,638,648,649,679,692,705,718,731,744,757,770,833,859,867,868,869,870,871,884,885,886,887,932,1275,1276,1277,1278,1349,1350,1351,1766,1794,1795,1797,1825) have mixed types. Specify dtype option on import or set low_memory=False.\n",
      "  for i, chunk in enumerate(pd.read_csv(input_file, chunksize=rows_per_file)):\n"
     ]
    },
    {
     "name": "stdout",
     "output_type": "stream",
     "text": [
      "Сохранена часть: C:\\Users\\Igorr\\Documents\\ITMO5grade\\Algorithm_BigData\\Split_Mordred_set/part_15.csv\n"
     ]
    },
    {
     "name": "stderr",
     "output_type": "stream",
     "text": [
      "C:\\Users\\Igorr\\AppData\\Local\\Temp\\ipykernel_14424\\2118090204.py:9: DtypeWarning: Columns (140,149,158,167,176,185,194,203,212,221,230,347,356,365,374,383,392,401,410,419,428,437,446,454,462,470,478,486,494,502,510,518,526,534,542,550,558,566,574,582,590,598,606,614,622,630,638,871,887) have mixed types. Specify dtype option on import or set low_memory=False.\n",
      "  for i, chunk in enumerate(pd.read_csv(input_file, chunksize=rows_per_file)):\n"
     ]
    },
    {
     "name": "stdout",
     "output_type": "stream",
     "text": [
      "Сохранена часть: C:\\Users\\Igorr\\Documents\\ITMO5grade\\Algorithm_BigData\\Split_Mordred_set/part_16.csv\n"
     ]
    },
    {
     "name": "stderr",
     "output_type": "stream",
     "text": [
      "C:\\Users\\Igorr\\AppData\\Local\\Temp\\ipykernel_14424\\2118090204.py:9: DtypeWarning: Columns (871,887) have mixed types. Specify dtype option on import or set low_memory=False.\n",
      "  for i, chunk in enumerate(pd.read_csv(input_file, chunksize=rows_per_file)):\n"
     ]
    },
    {
     "name": "stdout",
     "output_type": "stream",
     "text": [
      "Сохранена часть: C:\\Users\\Igorr\\Documents\\ITMO5grade\\Algorithm_BigData\\Split_Mordred_set/part_17.csv\n"
     ]
    },
    {
     "name": "stderr",
     "output_type": "stream",
     "text": [
      "C:\\Users\\Igorr\\AppData\\Local\\Temp\\ipykernel_14424\\2118090204.py:9: DtypeWarning: Columns (140,149,158,167,176,185,194,203,212,221,230,347,356,365,374,383,392,401,410,419,428,437,446,454,462,470,478,486,494,502,510,518,526,534,542,550,558,566,574,582,590,598,606,614,622,630,638,871,887) have mixed types. Specify dtype option on import or set low_memory=False.\n",
      "  for i, chunk in enumerate(pd.read_csv(input_file, chunksize=rows_per_file)):\n"
     ]
    },
    {
     "name": "stdout",
     "output_type": "stream",
     "text": [
      "Сохранена часть: C:\\Users\\Igorr\\Documents\\ITMO5grade\\Algorithm_BigData\\Split_Mordred_set/part_18.csv\n",
      "Сохранена часть: C:\\Users\\Igorr\\Documents\\ITMO5grade\\Algorithm_BigData\\Split_Mordred_set/part_19.csv\n"
     ]
    },
    {
     "name": "stderr",
     "output_type": "stream",
     "text": [
      "C:\\Users\\Igorr\\AppData\\Local\\Temp\\ipykernel_14424\\2118090204.py:9: DtypeWarning: Columns (138,139,147,148,156,157,165,166,174,175,183,184,192,193,201,202,210,211,219,220,228,229,345,346,354,355,363,364,372,373,381,382,390,391,399,400,408,409,417,418,426,427,435,436,444,445,452,453,460,461,466,467,468,469,476,477,484,485,492,493,500,501,508,509,516,517,524,525,532,533,540,541,548,549,556,557,562,563,564,565,572,573,580,581,588,589,596,597,604,605,612,613,620,621,628,629,636,637,869,870,885,886,1350,1351) have mixed types. Specify dtype option on import or set low_memory=False.\n",
      "  for i, chunk in enumerate(pd.read_csv(input_file, chunksize=rows_per_file)):\n"
     ]
    },
    {
     "name": "stdout",
     "output_type": "stream",
     "text": [
      "Сохранена часть: C:\\Users\\Igorr\\Documents\\ITMO5grade\\Algorithm_BigData\\Split_Mordred_set/part_20.csv\n"
     ]
    }
   ],
   "source": [
    "import pandas as pd\n",
    "\n",
    "# Укажите путь к вашему большому CSV файлу и директорию для сохранения частей\n",
    "input_file = r'C:\\Users\\Igorr\\Documents\\ITMO5grade\\Algorithm_BigData\\mordredset.csv'  # замените на путь к вашему файлу\n",
    "output_path = r'C:\\Users\\Igorr\\Documents\\ITMO5grade\\Algorithm_BigData\\Split_Mordred_set/'  # укажите папку для сохранения частей\n",
    "rows_per_file = 1000  # количество строк в каждом новом файле\n",
    "\n",
    "# Чтение большого файла по частям и сохранение каждой части отдельно\n",
    "for i, chunk in enumerate(pd.read_csv(input_file, chunksize=rows_per_file)):\n",
    "    output_file = f'{output_path}part_{i + 1}.csv'\n",
    "    chunk.to_csv(output_file, index=False)\n",
    "    print(f'Сохранена часть: {output_file}')"
   ]
  }
 ],
 "metadata": {
  "kernelspec": {
   "display_name": "gap",
   "language": "python",
   "name": "python3"
  },
  "language_info": {
   "codemirror_mode": {
    "name": "ipython",
    "version": 3
   },
   "file_extension": ".py",
   "mimetype": "text/x-python",
   "name": "python",
   "nbconvert_exporter": "python",
   "pygments_lexer": "ipython3",
   "version": "3.12.3"
  }
 },
 "nbformat": 4,
 "nbformat_minor": 2
}
